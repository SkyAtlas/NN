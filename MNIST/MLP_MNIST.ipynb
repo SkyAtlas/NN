{
 "cells": [
  {
   "cell_type": "code",
   "execution_count": 1,
   "metadata": {},
   "outputs": [
    {
     "name": "stderr",
     "output_type": "stream",
     "text": [
      "Using TensorFlow backend.\n"
     ]
    }
   ],
   "source": [
    "from keras.datasets import mnist\n",
    "from keras.models import Model\n",
    "from keras.layers import Input, Dense\n",
    "from keras.utils import np_utils"
   ]
  },
  {
   "cell_type": "code",
   "execution_count": 2,
   "metadata": {
    "collapsed": true
   },
   "outputs": [],
   "source": [
    "# hyperparameters\n",
    "batch_size = 128\n",
    "num_epoch = 30\n",
    "hidden_size = 512"
   ]
  },
  {
   "cell_type": "code",
   "execution_count": 3,
   "metadata": {},
   "outputs": [
    {
     "name": "stdout",
     "output_type": "stream",
     "text": [
      "Downloading data from https://s3.amazonaws.com/img-datasets/mnist.npz\n",
      "10698752/11490434 [==========================>...] - ETA: 0s"
     ]
    }
   ],
   "source": [
    "num_train = 60000\n",
    "num_test = 10000\n",
    "\n",
    "width, height, depth = 28, 28, 1\n",
    "num_classes = 10\n",
    "\n",
    "(X_train, y_train), (X_test, y_test) = mnist.load_data()\n",
    "\n",
    "X_train = X_train.reshape(num_train, width*height*depth)\n",
    "X_test = X_test.reshape(num_test, width*height*depth)\n",
    "X_train = X_train.astype('float32')\n",
    "X_test = X_test.astype('float32')\n",
    "X_train /= 255\n",
    "X_test /= 255\n",
    "\n",
    "Y_train = np_utils.to_categorical(y_train, num_classes)\n",
    "Y_test = np_utils.to_categorical(y_test, num_classes)"
   ]
  },
  {
   "cell_type": "code",
   "execution_count": 4,
   "metadata": {},
   "outputs": [
    {
     "name": "stderr",
     "output_type": "stream",
     "text": [
      "/home/nbuser/anaconda3_420/lib/python3.5/site-packages/ipykernel/__main__.py:7: UserWarning: Update your `Model` call to the Keras 2 API: `Model(inputs=Tensor(\"in..., outputs=Tensor(\"de...)`\n"
     ]
    }
   ],
   "source": [
    "inp = Input(shape = (height*width*depth,))\n",
    "hidden_1 = Dense(hidden_size, activation ='relu')(inp)\n",
    "hidden_2 = Dense(hidden_size, activation = 'relu')(hidden_1)\n",
    "hidden_3 = Dense(hidden_size, activation = 'relu')(hidden_2)\n",
    "out = Dense(num_classes, activation = 'softmax')(hidden_3)\n",
    "\n",
    "model = Model(input=inp, output=out)"
   ]
  },
  {
   "cell_type": "code",
   "execution_count": 5,
   "metadata": {
    "collapsed": true
   },
   "outputs": [],
   "source": [
    "model.compile(loss='categorical_crossentropy',\n",
    "              optimizer = 'adam',\n",
    "              metrics = ['accuracy'])"
   ]
  },
  {
   "cell_type": "code",
   "execution_count": 7,
   "metadata": {},
   "outputs": [
    {
     "name": "stdout",
     "output_type": "stream",
     "text": [
      "Train on 54000 samples, validate on 6000 samples\n",
      "Epoch 1/30\n",
      "  640/54000 [..............................] - ETA: 16s - loss: 0.0211 - acc: 0.9953"
     ]
    },
    {
     "name": "stderr",
     "output_type": "stream",
     "text": [
      "/home/nbuser/anaconda3_420/lib/python3.5/site-packages/ipykernel/__main__.py:3: UserWarning: The `nb_epoch` argument in `fit` has been renamed `epochs`.\n",
      "  app.launch_new_instance()\n"
     ]
    },
    {
     "name": "stdout",
     "output_type": "stream",
     "text": [
      "54000/54000 [==============================] - 14s - loss: 0.0077 - acc: 0.9978 - val_loss: 0.0979 - val_acc: 0.9818\n",
      "Epoch 2/30\n",
      "54000/54000 [==============================] - 14s - loss: 0.0052 - acc: 0.9984 - val_loss: 0.1052 - val_acc: 0.9817\n",
      "Epoch 3/30\n",
      "54000/54000 [==============================] - 13s - loss: 0.0102 - acc: 0.9972 - val_loss: 0.0933 - val_acc: 0.9847\n",
      "Epoch 4/30\n",
      "54000/54000 [==============================] - 14s - loss: 0.0044 - acc: 0.9990 - val_loss: 0.1079 - val_acc: 0.9815\n",
      "Epoch 5/30\n",
      "54000/54000 [==============================] - 14s - loss: 0.0085 - acc: 0.9976 - val_loss: 0.0982 - val_acc: 0.9825\n",
      "Epoch 6/30\n",
      "54000/54000 [==============================] - 14s - loss: 0.0083 - acc: 0.9975 - val_loss: 0.0939 - val_acc: 0.9848\n",
      "Epoch 7/30\n",
      "54000/54000 [==============================] - 13s - loss: 0.0038 - acc: 0.9990 - val_loss: 0.0983 - val_acc: 0.9843\n",
      "Epoch 8/30\n",
      "54000/54000 [==============================] - 13s - loss: 0.0047 - acc: 0.9987 - val_loss: 0.0969 - val_acc: 0.9850\n",
      "Epoch 9/30\n",
      "54000/54000 [==============================] - 14s - loss: 0.0054 - acc: 0.9986 - val_loss: 0.1012 - val_acc: 0.9845\n",
      "Epoch 10/30\n",
      "54000/54000 [==============================] - 15s - loss: 0.0112 - acc: 0.9973 - val_loss: 0.1246 - val_acc: 0.9823\n",
      "Epoch 11/30\n",
      "54000/54000 [==============================] - 14s - loss: 0.0053 - acc: 0.9986 - val_loss: 0.1045 - val_acc: 0.9842\n",
      "Epoch 12/30\n",
      "54000/54000 [==============================] - 14s - loss: 0.0033 - acc: 0.9991 - val_loss: 0.0981 - val_acc: 0.9855\n",
      "Epoch 13/30\n",
      "54000/54000 [==============================] - 14s - loss: 0.0077 - acc: 0.9981 - val_loss: 0.1073 - val_acc: 0.9837\n",
      "Epoch 14/30\n",
      "54000/54000 [==============================] - 15s - loss: 0.0062 - acc: 0.9982 - val_loss: 0.1154 - val_acc: 0.9837\n",
      "Epoch 15/30\n",
      "54000/54000 [==============================] - 14s - loss: 0.0045 - acc: 0.9989 - val_loss: 0.1201 - val_acc: 0.9825\n",
      "Epoch 16/30\n",
      "54000/54000 [==============================] - 14s - loss: 0.0083 - acc: 0.9981 - val_loss: 0.1224 - val_acc: 0.9833\n",
      "Epoch 17/30\n",
      "54000/54000 [==============================] - 14s - loss: 0.0063 - acc: 0.9985 - val_loss: 0.1167 - val_acc: 0.9818\n",
      "Epoch 18/30\n",
      "54000/54000 [==============================] - 14s - loss: 0.0042 - acc: 0.9989 - val_loss: 0.1169 - val_acc: 0.9840\n",
      "Epoch 19/30\n",
      "54000/54000 [==============================] - 14s - loss: 0.0064 - acc: 0.9985 - val_loss: 0.1248 - val_acc: 0.9817\n",
      "Epoch 20/30\n",
      "54000/54000 [==============================] - 14s - loss: 0.0067 - acc: 0.9986 - val_loss: 0.1056 - val_acc: 0.9845\n",
      "Epoch 21/30\n",
      "54000/54000 [==============================] - 14s - loss: 0.0068 - acc: 0.9983 - val_loss: 0.0999 - val_acc: 0.9838\n",
      "Epoch 22/30\n",
      "54000/54000 [==============================] - 14s - loss: 0.0050 - acc: 0.9989 - val_loss: 0.1204 - val_acc: 0.9825\n",
      "Epoch 23/30\n",
      "54000/54000 [==============================] - 14s - loss: 0.0095 - acc: 0.9977 - val_loss: 0.1067 - val_acc: 0.9830\n",
      "Epoch 24/30\n",
      "54000/54000 [==============================] - 14s - loss: 0.0032 - acc: 0.9992 - val_loss: 0.1015 - val_acc: 0.9852\n",
      "Epoch 25/30\n",
      "54000/54000 [==============================] - 14s - loss: 0.0041 - acc: 0.9990 - val_loss: 0.1143 - val_acc: 0.9838\n",
      "Epoch 26/30\n",
      "54000/54000 [==============================] - 14s - loss: 0.0039 - acc: 0.9992 - val_loss: 0.1460 - val_acc: 0.9807\n",
      "Epoch 27/30\n",
      "54000/54000 [==============================] - 14s - loss: 0.0061 - acc: 0.9984 - val_loss: 0.1116 - val_acc: 0.9837\n",
      "Epoch 28/30\n",
      "54000/54000 [==============================] - 14s - loss: 0.0060 - acc: 0.9986 - val_loss: 0.1084 - val_acc: 0.9838\n",
      "Epoch 29/30\n",
      "54000/54000 [==============================] - 14s - loss: 0.0076 - acc: 0.9982 - val_loss: 0.1100 - val_acc: 0.9828\n",
      "Epoch 30/30\n",
      "54000/54000 [==============================] - 14s - loss: 0.0042 - acc: 0.9990 - val_loss: 0.1054 - val_acc: 0.9862\n",
      " 9888/10000 [============================>.] - ETA: 0s"
     ]
    },
    {
     "data": {
      "text/plain": [
       "[0.11382479101422169, 0.98360000000000003]"
      ]
     },
     "execution_count": 7,
     "metadata": {},
     "output_type": "execute_result"
    }
   ],
   "source": [
    "model.fit(X_train, Y_train,\n",
    "          batch_size = batch_size, nb_epoch = num_epoch,\n",
    "          verbose = 1, validation_split =  0.1)\n",
    "\n",
    "model.evaluate(X_test, Y_test, verbose=1)"
   ]
  },
  {
   "cell_type": "code",
   "execution_count": null,
   "metadata": {
    "collapsed": true
   },
   "outputs": [],
   "source": []
  }
 ],
 "metadata": {
  "kernelspec": {
   "display_name": "Python 3",
   "language": "python",
   "name": "python3"
  },
  "language_info": {
   "codemirror_mode": {
    "name": "ipython",
    "version": 3
   },
   "file_extension": ".py",
   "mimetype": "text/x-python",
   "name": "python",
   "nbconvert_exporter": "python",
   "pygments_lexer": "ipython3",
   "version": "3.5.4"
  }
 },
 "nbformat": 4,
 "nbformat_minor": 2
}
